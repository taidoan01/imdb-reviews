{
  "nbformat": 4,
  "nbformat_minor": 0,
  "metadata": {
    "colab": {
      "provenance": []
    },
    "kernelspec": {
      "name": "python3",
      "display_name": "Python 3"
    },
    "language_info": {
      "name": "python"
    }
  },
  "cells": [
    {
      "cell_type": "code",
      "execution_count": null,
      "metadata": {
        "id": "XL75fRJm1EsL"
      },
      "outputs": [],
      "source": [
        "import tensorflow_datasets as tfds"
      ]
    },
    {
      "cell_type": "code",
      "source": [
        "imdb, info = tfds.load('imdb_reviews',as_supervised=True, with_info=True)"
      ],
      "metadata": {
        "id": "qYDPlqpx1SLg"
      },
      "execution_count": null,
      "outputs": []
    },
    {
      "cell_type": "code",
      "source": [
        "import tensorflow as tf\n",
        "import numpy as np"
      ],
      "metadata": {
        "id": "moGhT8c_1SNw"
      },
      "execution_count": null,
      "outputs": []
    },
    {
      "cell_type": "code",
      "source": [
        "train_data, test_data = imdb['train'], imdb['test']"
      ],
      "metadata": {
        "id": "aWvtmDFd1SQb"
      },
      "execution_count": null,
      "outputs": []
    },
    {
      "cell_type": "code",
      "source": [
        "train_sentences = []\n",
        "test_sentences = []\n",
        "\n",
        "train_labels = []\n",
        "test_labels = []\n",
        "\n",
        "for s,l in train_data:\n",
        "  train_sentences.append(str(s.numpy()))\n",
        "  train_labels.append(l.numpy())\n",
        "\n",
        "for s,l in test_data:\n",
        "  test_sentences.append(str(s.numpy()))\n",
        "  test_labels.append(l.numpy())"
      ],
      "metadata": {
        "id": "ATXN_H431SSw"
      },
      "execution_count": null,
      "outputs": []
    },
    {
      "cell_type": "code",
      "source": [
        "train_sentences[0]"
      ],
      "metadata": {
        "colab": {
          "base_uri": "https://localhost:8080/",
          "height": 160
        },
        "id": "7xIfAiaG4AOa",
        "outputId": "58bdf0b9-b2d5-4f5b-9d11-65f176c2106f"
      },
      "execution_count": null,
      "outputs": [
        {
          "output_type": "execute_result",
          "data": {
            "text/plain": [
              "'b\"This was an absolutely terrible movie. Don\\'t be lured in by Christopher Walken or Michael Ironside. Both are great actors, but this must simply be their worst role in history. Even their great acting could not redeem this movie\\'s ridiculous storyline. This movie is an early nineties US propaganda piece. The most pathetic scenes were those when the Columbian rebels were making their cases for revolutions. Maria Conchita Alonso appeared phony, and her pseudo-love affair with Walken was nothing but a pathetic emotional plug in a movie that was devoid of any real meaning. I am disappointed that there are movies like this, ruining actor\\'s like Christopher Walken\\'s good name. I could barely sit through it.\"'"
            ],
            "application/vnd.google.colaboratory.intrinsic+json": {
              "type": "string"
            }
          },
          "metadata": {},
          "execution_count": 6
        }
      ]
    },
    {
      "cell_type": "code",
      "source": [
        "train_labels[0]"
      ],
      "metadata": {
        "colab": {
          "base_uri": "https://localhost:8080/"
        },
        "id": "2tKkhh_F3TYZ",
        "outputId": "4fc98c63-e8b0-475f-d462-c6b5e18c1e31"
      },
      "execution_count": null,
      "outputs": [
        {
          "output_type": "execute_result",
          "data": {
            "text/plain": [
              "0"
            ]
          },
          "metadata": {},
          "execution_count": 7
        }
      ]
    },
    {
      "cell_type": "code",
      "source": [
        "train_labels = np.array(train_labels)\n",
        "test_labels = np.array(test_labels)"
      ],
      "metadata": {
        "id": "0dC9qOJB3Tb8"
      },
      "execution_count": null,
      "outputs": []
    },
    {
      "cell_type": "code",
      "source": [
        "vocab_size = 10000\n",
        "embedding_dim = 64\n",
        "max_length = 140"
      ],
      "metadata": {
        "id": "N-wLcejx4Sce"
      },
      "execution_count": null,
      "outputs": []
    },
    {
      "cell_type": "code",
      "source": [
        "from tensorflow.keras.preprocessing.text import Tokenizer\n",
        "from tensorflow.keras.preprocessing.sequence import pad_sequences"
      ],
      "metadata": {
        "id": "kapZlI0W4Seu"
      },
      "execution_count": null,
      "outputs": []
    },
    {
      "cell_type": "code",
      "source": [
        "tokenizer = Tokenizer(num_words=vocab_size, oov_token=\"<OOV>\")\n",
        "tokenizer.fit_on_texts(train_sentences)"
      ],
      "metadata": {
        "id": "fm0U-RGZ4ShY"
      },
      "execution_count": null,
      "outputs": []
    },
    {
      "cell_type": "code",
      "source": [
        "train_sequences = tokenizer.texts_to_sequences(train_sentences)"
      ],
      "metadata": {
        "id": "15FQZ1bK5XIB"
      },
      "execution_count": null,
      "outputs": []
    },
    {
      "cell_type": "code",
      "source": [
        "padded_train_sequences = pad_sequences(train_sequences, maxlen=max_length, truncating='post',padding ='post')"
      ],
      "metadata": {
        "id": "-M8PS0rL5XKo"
      },
      "execution_count": null,
      "outputs": []
    },
    {
      "cell_type": "code",
      "source": [
        "padded_train_sequences"
      ],
      "metadata": {
        "colab": {
          "base_uri": "https://localhost:8080/"
        },
        "id": "2dYbAkWA5XNC",
        "outputId": "511fa026-d9ab-45b0-db59-dda877ddae03"
      },
      "execution_count": null,
      "outputs": [
        {
          "output_type": "execute_result",
          "data": {
            "text/plain": [
              "array([[  59,   12,   14, ...,    0,    0,    0],\n",
              "       [ 256,   28,   78, ...,    0,    0,    0],\n",
              "       [   1, 6175,    2, ...,    0,    0,    0],\n",
              "       ...,\n",
              "       [7629,   37,   11, ..., 2743,   21, 1563],\n",
              "       [2677,   11,  216, ..., 1048,   37,   31],\n",
              "       [3875,    5,   31, ...,    1, 2238,   42]], dtype=int32)"
            ]
          },
          "metadata": {},
          "execution_count": 14
        }
      ]
    },
    {
      "cell_type": "code",
      "source": [
        "test_sequences = tokenizer.texts_to_sequences(test_sentences)\n",
        "padded_test_sequences = pad_sequences(test_sequences, maxlen=max_length, truncating='post',padding ='post')"
      ],
      "metadata": {
        "id": "eA0KhuP75XPb"
      },
      "execution_count": null,
      "outputs": []
    },
    {
      "cell_type": "code",
      "source": [
        "print(padded_train_sequences.shape)\n",
        "print(padded_test_sequences.shape)"
      ],
      "metadata": {
        "colab": {
          "base_uri": "https://localhost:8080/"
        },
        "id": "6K36qFa05XR8",
        "outputId": "b8a3079b-ea46-46e9-c313-ada50813909d"
      },
      "execution_count": null,
      "outputs": [
        {
          "output_type": "stream",
          "name": "stdout",
          "text": [
            "(25000, 140)\n",
            "(25000, 140)\n"
          ]
        }
      ]
    },
    {
      "cell_type": "code",
      "source": [
        "from tensorflow.keras.models import Sequential\n",
        "from tensorflow.keras.layers import Embedding\n",
        "from tensorflow.keras.layers import Flatten\n",
        "from tensorflow.keras.layers import Dense\n",
        "\n"
      ],
      "metadata": {
        "id": "2OwfDyi-5XVT"
      },
      "execution_count": null,
      "outputs": []
    },
    {
      "cell_type": "code",
      "source": [
        "model = Sequential()"
      ],
      "metadata": {
        "id": "uvqQ0pwA7OgC"
      },
      "execution_count": null,
      "outputs": []
    },
    {
      "cell_type": "code",
      "source": [
        "model.add(Embedding(vocab_size,embedding_dim,input_length=max_length))"
      ],
      "metadata": {
        "id": "ay-QACvh7Oiq"
      },
      "execution_count": null,
      "outputs": []
    },
    {
      "cell_type": "code",
      "source": [
        "model.add(Flatten())"
      ],
      "metadata": {
        "id": "U_FxnLt_7Oky"
      },
      "execution_count": null,
      "outputs": []
    },
    {
      "cell_type": "code",
      "source": [
        "model.add(Dense(10,activation='relu'))"
      ],
      "metadata": {
        "id": "K1IQU7eN7OnW"
      },
      "execution_count": null,
      "outputs": []
    },
    {
      "cell_type": "code",
      "source": [
        "model.add(Dense(1,activation='sigmoid'))"
      ],
      "metadata": {
        "id": "cVc1Pq-b7Op0"
      },
      "execution_count": null,
      "outputs": []
    },
    {
      "cell_type": "code",
      "source": [
        "model.compile(loss='binary_crossentropy', optimizer='adam', metrics =['acc'])"
      ],
      "metadata": {
        "id": "PZhy13r87Oty"
      },
      "execution_count": null,
      "outputs": []
    },
    {
      "cell_type": "code",
      "source": [
        "model.summary()"
      ],
      "metadata": {
        "colab": {
          "base_uri": "https://localhost:8080/"
        },
        "id": "8kJPOAl_8gl2",
        "outputId": "c82d7517-bae1-41de-ce99-359e9231f701"
      },
      "execution_count": null,
      "outputs": [
        {
          "output_type": "stream",
          "name": "stdout",
          "text": [
            "Model: \"sequential\"\n",
            "_________________________________________________________________\n",
            " Layer (type)                Output Shape              Param #   \n",
            "=================================================================\n",
            " embedding (Embedding)       (None, 140, 64)           640000    \n",
            "                                                                 \n",
            " flatten (Flatten)           (None, 8960)              0         \n",
            "                                                                 \n",
            " dense (Dense)               (None, 10)                89610     \n",
            "                                                                 \n",
            " dense_1 (Dense)             (None, 1)                 11        \n",
            "                                                                 \n",
            "=================================================================\n",
            "Total params: 729,621\n",
            "Trainable params: 729,621\n",
            "Non-trainable params: 0\n",
            "_________________________________________________________________\n"
          ]
        }
      ]
    },
    {
      "cell_type": "code",
      "source": [
        "model.fit(padded_train_sequences, train_labels, epochs=10, validation_data=(padded_test_sequences,test_labels))"
      ],
      "metadata": {
        "colab": {
          "base_uri": "https://localhost:8080/"
        },
        "id": "TKRx1yxW92lf",
        "outputId": "1e81c3bf-a173-4bcb-c19a-0ae392a5a955"
      },
      "execution_count": null,
      "outputs": [
        {
          "output_type": "stream",
          "name": "stdout",
          "text": [
            "Epoch 1/10\n",
            "782/782 [==============================] - 7s 8ms/step - loss: 0.4497 - acc: 0.7741 - val_loss: 0.3752 - val_acc: 0.8330\n",
            "Epoch 2/10\n",
            "782/782 [==============================] - 6s 8ms/step - loss: 0.1342 - acc: 0.9563 - val_loss: 0.4684 - val_acc: 0.8151\n",
            "Epoch 3/10\n",
            "782/782 [==============================] - 6s 8ms/step - loss: 0.0204 - acc: 0.9966 - val_loss: 0.5511 - val_acc: 0.8198\n",
            "Epoch 4/10\n",
            "782/782 [==============================] - 6s 8ms/step - loss: 0.0029 - acc: 0.9998 - val_loss: 0.6073 - val_acc: 0.8200\n",
            "Epoch 5/10\n",
            "782/782 [==============================] - 6s 8ms/step - loss: 7.9310e-04 - acc: 1.0000 - val_loss: 0.6522 - val_acc: 0.8226\n",
            "Epoch 6/10\n",
            "782/782 [==============================] - 7s 9ms/step - loss: 3.5084e-04 - acc: 1.0000 - val_loss: 0.6870 - val_acc: 0.8240\n",
            "Epoch 7/10\n",
            "782/782 [==============================] - 7s 9ms/step - loss: 1.9183e-04 - acc: 1.0000 - val_loss: 0.7168 - val_acc: 0.8250\n",
            "Epoch 8/10\n",
            "782/782 [==============================] - 6s 8ms/step - loss: 1.1556e-04 - acc: 1.0000 - val_loss: 0.7473 - val_acc: 0.8257\n",
            "Epoch 9/10\n",
            "782/782 [==============================] - 6s 8ms/step - loss: 6.9661e-05 - acc: 1.0000 - val_loss: 0.7794 - val_acc: 0.8252\n",
            "Epoch 10/10\n",
            "782/782 [==============================] - 6s 8ms/step - loss: 4.3295e-05 - acc: 1.0000 - val_loss: 0.8059 - val_acc: 0.8266\n"
          ]
        },
        {
          "output_type": "execute_result",
          "data": {
            "text/plain": [
              "<keras.callbacks.History at 0x7f48d46ae790>"
            ]
          },
          "metadata": {},
          "execution_count": 25
        }
      ]
    },
    {
      "cell_type": "code",
      "source": [
        "test_sen =[\"I hate this movie because uncle Ben has been slain\"]\n",
        "test_seq = tokenizer.texts_to_sequences(test_sen)\n",
        "\n",
        "padded_test_seq = pad_sequences(test_seq,maxlen=max_length,padding='post',truncating='post' )\n"
      ],
      "metadata": {
        "id": "QirC1VKc92jQ"
      },
      "execution_count": null,
      "outputs": []
    },
    {
      "cell_type": "code",
      "source": [
        "padded_test_seq"
      ],
      "metadata": {
        "colab": {
          "base_uri": "https://localhost:8080/"
        },
        "id": "ABtY8tmM92gq",
        "outputId": "f0a8bc3e-7730-4fdc-cee4-47afa1e3d028"
      },
      "execution_count": null,
      "outputs": [
        {
          "output_type": "execute_result",
          "data": {
            "text/plain": [
              "array([[  11,  797,   12,   18,   87, 1675, 1017,   48,   78,    1,    0,\n",
              "           0,    0,    0,    0,    0,    0,    0,    0,    0,    0,    0,\n",
              "           0,    0,    0,    0,    0,    0,    0,    0,    0,    0,    0,\n",
              "           0,    0,    0,    0,    0,    0,    0,    0,    0,    0,    0,\n",
              "           0,    0,    0,    0,    0,    0,    0,    0,    0,    0,    0,\n",
              "           0,    0,    0,    0,    0,    0,    0,    0,    0,    0,    0,\n",
              "           0,    0,    0,    0,    0,    0,    0,    0,    0,    0,    0,\n",
              "           0,    0,    0,    0,    0,    0,    0,    0,    0,    0,    0,\n",
              "           0,    0,    0,    0,    0,    0,    0,    0,    0,    0,    0,\n",
              "           0,    0,    0,    0,    0,    0,    0,    0,    0,    0,    0,\n",
              "           0,    0,    0,    0,    0,    0,    0,    0,    0,    0,    0,\n",
              "           0,    0,    0,    0,    0,    0,    0,    0,    0,    0,    0,\n",
              "           0,    0,    0,    0,    0,    0,    0,    0]], dtype=int32)"
            ]
          },
          "metadata": {},
          "execution_count": 27
        }
      ]
    },
    {
      "cell_type": "code",
      "source": [
        "def model_predict(text):\n",
        "  test_seq = tokenizer.texts_to_sequences(text)\n",
        "  padded_test_seq = pad_sequences(test_seq,maxlen=max_length,padding='post',truncating='post' )\n",
        "\n",
        "  pred = model.predict(padded_test_seq)\n",
        "  print('Positive') if pred > 0.5 else print('Negative')"
      ],
      "metadata": {
        "id": "kuUuMF3792et"
      },
      "execution_count": null,
      "outputs": []
    },
    {
      "cell_type": "code",
      "source": [
        "test_sen =[\"This is my second attempt to review this title. I was able to see a screening of this in Europe...waste of time. Predictable and laughable at points, it desperately tries to keep pace with other Marvel offerings but fails miserably. \"]\n",
        "model_predict(test_sen)"
      ],
      "metadata": {
        "colab": {
          "base_uri": "https://localhost:8080/"
        },
        "id": "5_gzfMU5FgLo",
        "outputId": "f3ece8c3-3c44-4a13-d31d-cee9ae96f591"
      },
      "execution_count": null,
      "outputs": [
        {
          "output_type": "stream",
          "name": "stdout",
          "text": [
            "1/1 [==============================] - 0s 14ms/step\n",
            "Negative\n"
          ]
        }
      ]
    },
    {
      "cell_type": "code",
      "source": [
        "e = model.layers[0]"
      ],
      "metadata": {
        "id": "TAt3tJiBB6sF"
      },
      "execution_count": null,
      "outputs": []
    },
    {
      "cell_type": "code",
      "source": [
        "weights = e.get_weights()[0] "
      ],
      "metadata": {
        "id": "uArtdcWJCJmV"
      },
      "execution_count": null,
      "outputs": []
    },
    {
      "cell_type": "code",
      "source": [
        "weights.shape"
      ],
      "metadata": {
        "colab": {
          "base_uri": "https://localhost:8080/"
        },
        "id": "DHt4TsHwCJo3",
        "outputId": "6d1ebd37-81fa-4981-be23-519427612ed6"
      },
      "execution_count": null,
      "outputs": [
        {
          "output_type": "execute_result",
          "data": {
            "text/plain": [
              "(10000, 64)"
            ]
          },
          "metadata": {},
          "execution_count": 34
        }
      ]
    },
    {
      "cell_type": "code",
      "source": [
        "import io \n",
        "\n",
        "out_v = io.open('vecs.tsv','w', encoding='utf-8')\n",
        "out_m = io.open('meta.tsv','w', encoding='utf-8')\n",
        "\n",
        "for idx in range(1,vocab_size):\n",
        "  word = tokenizer.index_word[idx]\n",
        "  vector = weights[idx]\n",
        "  out_m.write(word + \"\\n\")\n",
        "  out_v.write('\\t'.join([str(x) for x in vector]) + \"\\n\")\n",
        "\n",
        "out_m.close()\n",
        "out_v.close()"
      ],
      "metadata": {
        "id": "cZH1Bf8lCJq9"
      },
      "execution_count": null,
      "outputs": []
    },
    {
      "cell_type": "code",
      "source": [],
      "metadata": {
        "id": "NFfvMntvCJtL"
      },
      "execution_count": null,
      "outputs": []
    }
  ]
}