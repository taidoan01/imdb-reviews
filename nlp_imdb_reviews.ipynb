{
  "cells": [
    {
      "cell_type": "code",
      "execution_count": null,
      "metadata": {
        "id": "XL75fRJm1EsL"
      },
      "outputs": [],
      "source": [
        "import tensorflow_datasets as tfds"
      ]
    },
    {
      "cell_type": "code",
      "execution_count": null,
      "metadata": {
        "id": "qYDPlqpx1SLg"
      },
      "outputs": [],
      "source": [
        "imdb, info = tfds.load('imdb_reviews',as_supervised=True, with_info=True)"
      ]
    },
    {
      "cell_type": "code",
      "execution_count": null,
      "metadata": {
        "id": "moGhT8c_1SNw"
      },
      "outputs": [],
      "source": [
        "import tensorflow as tf\n",
        "import numpy as np"
      ]
    },
    {
      "cell_type": "code",
      "execution_count": null,
      "metadata": {
        "id": "aWvtmDFd1SQb"
      },
      "outputs": [],
      "source": [
        "train_data, test_data = imdb['train'], imdb['test']"
      ]
    },
    {
      "cell_type": "code",
      "execution_count": null,
      "metadata": {
        "id": "ATXN_H431SSw"
      },
      "outputs": [],
      "source": [
        "train_sentences = []\n",
        "test_sentences = []\n",
        "\n",
        "train_labels = []\n",
        "test_labels = []\n",
        "\n",
        "for s,l in train_data:\n",
        "  train_sentences.append(str(s.numpy()))\n",
        "  train_labels.append(l.numpy())\n",
        "\n",
        "for s,l in test_data:\n",
        "  test_sentences.append(str(s.numpy()))\n",
        "  test_labels.append(l.numpy())"
      ]
    },
    {
      "cell_type": "code",
      "execution_count": null,
      "metadata": {
        "colab": {
          "base_uri": "https://localhost:8080/",
          "height": 160
        },
        "id": "7xIfAiaG4AOa",
        "outputId": "58bdf0b9-b2d5-4f5b-9d11-65f176c2106f"
      },
      "outputs": [
        {
          "data": {
            "application/vnd.google.colaboratory.intrinsic+json": {
              "type": "string"
            },
            "text/plain": [
              "'b\"This was an absolutely terrible movie. Don\\'t be lured in by Christopher Walken or Michael Ironside. Both are great actors, but this must simply be their worst role in history. Even their great acting could not redeem this movie\\'s ridiculous storyline. This movie is an early nineties US propaganda piece. The most pathetic scenes were those when the Columbian rebels were making their cases for revolutions. Maria Conchita Alonso appeared phony, and her pseudo-love affair with Walken was nothing but a pathetic emotional plug in a movie that was devoid of any real meaning. I am disappointed that there are movies like this, ruining actor\\'s like Christopher Walken\\'s good name. I could barely sit through it.\"'"
            ]
          },
          "execution_count": 6,
          "metadata": {},
          "output_type": "execute_result"
        }
      ],
      "source": [
        "train_sentences[0]"
      ]
    },
    {
      "cell_type": "code",
      "execution_count": null,
      "metadata": {
        "colab": {
          "base_uri": "https://localhost:8080/"
        },
        "id": "2tKkhh_F3TYZ",
        "outputId": "4fc98c63-e8b0-475f-d462-c6b5e18c1e31"
      },
      "outputs": [
        {
          "data": {
            "text/plain": [
              "0"
            ]
          },
          "execution_count": 7,
          "metadata": {},
          "output_type": "execute_result"
        }
      ],
      "source": [
        "train_labels[0]"
      ]
    },
    {
      "cell_type": "code",
      "execution_count": null,
      "metadata": {
        "id": "0dC9qOJB3Tb8"
      },
      "outputs": [],
      "source": [
        "train_labels = np.array(train_labels)\n",
        "test_labels = np.array(test_labels)"
      ]
    },
    {
      "cell_type": "code",
      "execution_count": null,
      "metadata": {
        "id": "N-wLcejx4Sce"
      },
      "outputs": [],
      "source": [
        "vocab_size = 10000\n",
        "embedding_dim = 64\n",
        "max_length = 140"
      ]
    },
    {
      "cell_type": "code",
      "execution_count": null,
      "metadata": {
        "id": "kapZlI0W4Seu"
      },
      "outputs": [],
      "source": [
        "from tensorflow.keras.preprocessing.text import Tokenizer\n",
        "from tensorflow.keras.preprocessing.sequence import pad_sequences"
      ]
    },
    {
      "cell_type": "code",
      "execution_count": null,
      "metadata": {
        "id": "fm0U-RGZ4ShY"
      },
      "outputs": [],
      "source": [
        "tokenizer = Tokenizer(num_words=vocab_size, oov_token=\"<OOV>\")\n",
        "tokenizer.fit_on_texts(train_sentences)"
      ]
    },
    {
      "cell_type": "code",
      "execution_count": null,
      "metadata": {
        "id": "15FQZ1bK5XIB"
      },
      "outputs": [],
      "source": [
        "train_sequences = tokenizer.texts_to_sequences(train_sentences)"
      ]
    },
    {
      "cell_type": "code",
      "execution_count": null,
      "metadata": {
        "id": "-M8PS0rL5XKo"
      },
      "outputs": [],
      "source": [
        "padded_train_sequences = pad_sequences(train_sequences, maxlen=max_length, truncating='post',padding ='post')"
      ]
    },
    {
      "cell_type": "code",
      "execution_count": null,
      "metadata": {
        "colab": {
          "base_uri": "https://localhost:8080/"
        },
        "id": "2dYbAkWA5XNC",
        "outputId": "511fa026-d9ab-45b0-db59-dda877ddae03"
      },
      "outputs": [
        {
          "data": {
            "text/plain": [
              "array([[  59,   12,   14, ...,    0,    0,    0],\n",
              "       [ 256,   28,   78, ...,    0,    0,    0],\n",
              "       [   1, 6175,    2, ...,    0,    0,    0],\n",
              "       ...,\n",
              "       [7629,   37,   11, ..., 2743,   21, 1563],\n",
              "       [2677,   11,  216, ..., 1048,   37,   31],\n",
              "       [3875,    5,   31, ...,    1, 2238,   42]], dtype=int32)"
            ]
          },
          "execution_count": 14,
          "metadata": {},
          "output_type": "execute_result"
        }
      ],
      "source": [
        "padded_train_sequences"
      ]
    },
    {
      "cell_type": "code",
      "execution_count": null,
      "metadata": {
        "id": "eA0KhuP75XPb"
      },
      "outputs": [],
      "source": [
        "test_sequences = tokenizer.texts_to_sequences(test_sentences)\n",
        "padded_test_sequences = pad_sequences(test_sequences, maxlen=max_length, truncating='post',padding ='post')"
      ]
    },
    {
      "cell_type": "code",
      "execution_count": null,
      "metadata": {
        "colab": {
          "base_uri": "https://localhost:8080/"
        },
        "id": "6K36qFa05XR8",
        "outputId": "b8a3079b-ea46-46e9-c313-ada50813909d"
      },
      "outputs": [
        {
          "name": "stdout",
          "output_type": "stream",
          "text": [
            "(25000, 140)\n",
            "(25000, 140)\n"
          ]
        }
      ],
      "source": [
        "print(padded_train_sequences.shape)\n",
        "print(padded_test_sequences.shape)"
      ]
    },
    {
      "cell_type": "code",
      "execution_count": null,
      "metadata": {
        "id": "2OwfDyi-5XVT"
      },
      "outputs": [],
      "source": [
        "from tensorflow.keras.models import Sequential\n",
        "from tensorflow.keras.layers import Embedding\n",
        "from tensorflow.keras.layers import Flatten\n",
        "from tensorflow.keras.layers import Dense\n",
        "\n"
      ]
    },
    {
      "cell_type": "code",
      "execution_count": null,
      "metadata": {
        "id": "uvqQ0pwA7OgC"
      },
      "outputs": [],
      "source": [
        "model = Sequential()"
      ]
    },
    {
      "cell_type": "code",
      "execution_count": null,
      "metadata": {
        "id": "ay-QACvh7Oiq"
      },
      "outputs": [],
      "source": [
        "model.add(Embedding(vocab_size,embedding_dim,input_length=max_length))"
      ]
    },
    {
      "cell_type": "code",
      "execution_count": null,
      "metadata": {
        "id": "U_FxnLt_7Oky"
      },
      "outputs": [],
      "source": [
        "model.add(Flatten())"
      ]
    },
    {
      "cell_type": "code",
      "execution_count": null,
      "metadata": {
        "id": "K1IQU7eN7OnW"
      },
      "outputs": [],
      "source": [
        "model.add(Dense(10,activation='relu'))"
      ]
    },
    {
      "cell_type": "code",
      "execution_count": null,
      "metadata": {
        "id": "cVc1Pq-b7Op0"
      },
      "outputs": [],
      "source": [
        "model.add(Dense(1,activation='sigmoid'))"
      ]
    },
    {
      "cell_type": "code",
      "execution_count": null,
      "metadata": {
        "id": "PZhy13r87Oty"
      },
      "outputs": [],
      "source": [
        "model.compile(loss='binary_crossentropy', optimizer='adam', metrics =['acc'])"
      ]
    },
    {
      "cell_type": "code",
      "execution_count": null,
      "metadata": {
        "colab": {
          "base_uri": "https://localhost:8080/"
        },
        "id": "8kJPOAl_8gl2",
        "outputId": "c82d7517-bae1-41de-ce99-359e9231f701"
      },
      "outputs": [
        {
          "name": "stdout",
          "output_type": "stream",
          "text": [
            "Model: \"sequential\"\n",
            "_________________________________________________________________\n",
            " Layer (type)                Output Shape              Param #   \n",
            "=================================================================\n",
            " embedding (Embedding)       (None, 140, 64)           640000    \n",
            "                                                                 \n",
            " flatten (Flatten)           (None, 8960)              0         \n",
            "                                                                 \n",
            " dense (Dense)               (None, 10)                89610     \n",
            "                                                                 \n",
            " dense_1 (Dense)             (None, 1)                 11        \n",
            "                                                                 \n",
            "=================================================================\n",
            "Total params: 729,621\n",
            "Trainable params: 729,621\n",
            "Non-trainable params: 0\n",
            "_________________________________________________________________\n"
          ]
        }
      ],
      "source": [
        "model.summary()"
      ]
    },
    {
      "cell_type": "code",
      "execution_count": null,
      "metadata": {
        "colab": {
          "base_uri": "https://localhost:8080/"
        },
        "id": "TKRx1yxW92lf",
        "outputId": "1e81c3bf-a173-4bcb-c19a-0ae392a5a955"
      },
      "outputs": [
        {
          "name": "stdout",
          "output_type": "stream",
          "text": [
            "Epoch 1/10\n",
            "782/782 [==============================] - 7s 8ms/step - loss: 0.4497 - acc: 0.7741 - val_loss: 0.3752 - val_acc: 0.8330\n",
            "Epoch 2/10\n",
            "782/782 [==============================] - 6s 8ms/step - loss: 0.1342 - acc: 0.9563 - val_loss: 0.4684 - val_acc: 0.8151\n",
            "Epoch 3/10\n",
            "782/782 [==============================] - 6s 8ms/step - loss: 0.0204 - acc: 0.9966 - val_loss: 0.5511 - val_acc: 0.8198\n",
            "Epoch 4/10\n",
            "782/782 [==============================] - 6s 8ms/step - loss: 0.0029 - acc: 0.9998 - val_loss: 0.6073 - val_acc: 0.8200\n",
            "Epoch 5/10\n",
            "782/782 [==============================] - 6s 8ms/step - loss: 7.9310e-04 - acc: 1.0000 - val_loss: 0.6522 - val_acc: 0.8226\n",
            "Epoch 6/10\n",
            "782/782 [==============================] - 7s 9ms/step - loss: 3.5084e-04 - acc: 1.0000 - val_loss: 0.6870 - val_acc: 0.8240\n",
            "Epoch 7/10\n",
            "782/782 [==============================] - 7s 9ms/step - loss: 1.9183e-04 - acc: 1.0000 - val_loss: 0.7168 - val_acc: 0.8250\n",
            "Epoch 8/10\n",
            "782/782 [==============================] - 6s 8ms/step - loss: 1.1556e-04 - acc: 1.0000 - val_loss: 0.7473 - val_acc: 0.8257\n",
            "Epoch 9/10\n",
            "782/782 [==============================] - 6s 8ms/step - loss: 6.9661e-05 - acc: 1.0000 - val_loss: 0.7794 - val_acc: 0.8252\n",
            "Epoch 10/10\n",
            "782/782 [==============================] - 6s 8ms/step - loss: 4.3295e-05 - acc: 1.0000 - val_loss: 0.8059 - val_acc: 0.8266\n"
          ]
        },
        {
          "data": {
            "text/plain": [
              "<keras.callbacks.History at 0x7f48d46ae790>"
            ]
          },
          "execution_count": 25,
          "metadata": {},
          "output_type": "execute_result"
        }
      ],
      "source": [
        "model.fit(padded_train_sequences, train_labels, epochs=10, validation_data=(padded_test_sequences,test_labels))"
      ]
    },
    {
      "cell_type": "code",
      "execution_count": null,
      "metadata": {
        "id": "kuUuMF3792et"
      },
      "outputs": [],
      "source": [
        "def model_predict(text):\n",
        "  test_seq = tokenizer.texts_to_sequences(text)\n",
        "  padded_test_seq = pad_sequences(test_seq,maxlen=max_length,padding='post',truncating='post' )\n",
        "\n",
        "  pred = model.predict(padded_test_seq)\n",
        "  print('Positive') if pred > 0.5 else print('Negative')"
      ]
    },
    {
      "cell_type": "code",
      "execution_count": null,
      "metadata": {
        "colab": {
          "base_uri": "https://localhost:8080/"
        },
        "id": "5_gzfMU5FgLo",
        "outputId": "f3ece8c3-3c44-4a13-d31d-cee9ae96f591"
      },
      "outputs": [
        {
          "name": "stdout",
          "output_type": "stream",
          "text": [
            "1/1 [==============================] - 0s 14ms/step\n",
            "Negative\n"
          ]
        }
      ],
      "source": [
        "test_sen =[\"This is my second attempt to review this title. I was able to see a screening of this in Europe...waste of time. Predictable and laughable at points, it desperately tries to keep pace with other Marvel offerings but fails miserably. \"]\n",
        "model_predict(test_sen)"
      ]
    },
    {
      "cell_type": "code",
      "execution_count": null,
      "metadata": {
        "id": "TAt3tJiBB6sF"
      },
      "outputs": [],
      "source": [
        "e = model.layers[0]"
      ]
    },
    {
      "cell_type": "code",
      "execution_count": null,
      "metadata": {
        "id": "NFfvMntvCJtL"
      },
      "outputs": [],
      "source": []
    }
  ],
  "metadata": {
    "colab": {
      "provenance": []
    },
    "kernelspec": {
      "display_name": "Python 3",
      "name": "python3"
    },
    "language_info": {
      "name": "python"
    }
  },
  "nbformat": 4,
  "nbformat_minor": 0
}
